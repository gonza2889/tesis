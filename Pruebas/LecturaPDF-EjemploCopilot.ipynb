{
  "cells": [
    {
      "cell_type": "code",
      "source": [
        "pip install transformers"
      ],
      "outputs": [
        {
          "output_type": "stream",
          "name": "stdout",
          "text": "Requirement already satisfied: transformers in /anaconda/envs/azureml_py310_sdkv2/lib/python3.10/site-packages (4.37.2)\nRequirement already satisfied: filelock in /anaconda/envs/azureml_py310_sdkv2/lib/python3.10/site-packages (from transformers) (3.12.2)\nRequirement already satisfied: huggingface-hub<1.0,>=0.19.3 in /anaconda/envs/azureml_py310_sdkv2/lib/python3.10/site-packages (from transformers) (0.20.3)\nRequirement already satisfied: numpy>=1.17 in /anaconda/envs/azureml_py310_sdkv2/lib/python3.10/site-packages (from transformers) (1.25.0)\nRequirement already satisfied: packaging>=20.0 in /anaconda/envs/azureml_py310_sdkv2/lib/python3.10/site-packages (from transformers) (23.0)\nRequirement already satisfied: pyyaml>=5.1 in /anaconda/envs/azureml_py310_sdkv2/lib/python3.10/site-packages (from transformers) (6.0)\nRequirement already satisfied: regex!=2019.12.17 in /anaconda/envs/azureml_py310_sdkv2/lib/python3.10/site-packages (from transformers) (2023.12.25)\nRequirement already satisfied: requests in /anaconda/envs/azureml_py310_sdkv2/lib/python3.10/site-packages (from transformers) (2.31.0)\nRequirement already satisfied: tokenizers<0.19,>=0.14 in /anaconda/envs/azureml_py310_sdkv2/lib/python3.10/site-packages (from transformers) (0.15.1)\nRequirement already satisfied: safetensors>=0.4.1 in /anaconda/envs/azureml_py310_sdkv2/lib/python3.10/site-packages (from transformers) (0.4.2)\nRequirement already satisfied: tqdm>=4.27 in /anaconda/envs/azureml_py310_sdkv2/lib/python3.10/site-packages (from transformers) (4.65.0)\nRequirement already satisfied: fsspec>=2023.5.0 in /anaconda/envs/azureml_py310_sdkv2/lib/python3.10/site-packages (from huggingface-hub<1.0,>=0.19.3->transformers) (2023.6.0)\nRequirement already satisfied: typing-extensions>=3.7.4.3 in /anaconda/envs/azureml_py310_sdkv2/lib/python3.10/site-packages (from huggingface-hub<1.0,>=0.19.3->transformers) (4.9.0)\nRequirement already satisfied: charset-normalizer<4,>=2 in /anaconda/envs/azureml_py310_sdkv2/lib/python3.10/site-packages (from requests->transformers) (3.1.0)\nRequirement already satisfied: idna<4,>=2.5 in /anaconda/envs/azureml_py310_sdkv2/lib/python3.10/site-packages (from requests->transformers) (3.4)\nRequirement already satisfied: urllib3<3,>=1.21.1 in /anaconda/envs/azureml_py310_sdkv2/lib/python3.10/site-packages (from requests->transformers) (1.26.16)\nRequirement already satisfied: certifi>=2017.4.17 in /anaconda/envs/azureml_py310_sdkv2/lib/python3.10/site-packages (from requests->transformers) (2023.5.7)\nNote: you may need to restart the kernel to use updated packages.\n"
        }
      ],
      "execution_count": 1,
      "metadata": {
        "jupyter": {
          "source_hidden": false,
          "outputs_hidden": false
        },
        "nteract": {
          "transient": {
            "deleting": false
          }
        },
        "gather": {
          "logged": 1708404842122
        }
      }
    },
    {
      "cell_type": "code",
      "source": [
        "pip install PyPDF2"
      ],
      "outputs": [
        {
          "output_type": "stream",
          "name": "stdout",
          "text": "Requirement already satisfied: PyPDF2 in /anaconda/envs/azureml_py310_sdkv2/lib/python3.10/site-packages (3.0.1)\nNote: you may need to restart the kernel to use updated packages.\n"
        }
      ],
      "execution_count": 2,
      "metadata": {
        "jupyter": {
          "source_hidden": false,
          "outputs_hidden": false
        },
        "nteract": {
          "transient": {
            "deleting": false
          }
        },
        "gather": {
          "logged": 1708404846425
        }
      }
    },
    {
      "cell_type": "code",
      "source": [
        "pip install huggingface_hub"
      ],
      "outputs": [
        {
          "output_type": "stream",
          "name": "stdout",
          "text": "Requirement already satisfied: huggingface_hub in /anaconda/envs/azureml_py310_sdkv2/lib/python3.10/site-packages (0.20.3)\nRequirement already satisfied: filelock in /anaconda/envs/azureml_py310_sdkv2/lib/python3.10/site-packages (from huggingface_hub) (3.12.2)\nRequirement already satisfied: fsspec>=2023.5.0 in /anaconda/envs/azureml_py310_sdkv2/lib/python3.10/site-packages (from huggingface_hub) (2023.6.0)\nRequirement already satisfied: requests in /anaconda/envs/azureml_py310_sdkv2/lib/python3.10/site-packages (from huggingface_hub) (2.31.0)\nRequirement already satisfied: tqdm>=4.42.1 in /anaconda/envs/azureml_py310_sdkv2/lib/python3.10/site-packages (from huggingface_hub) (4.65.0)\nRequirement already satisfied: pyyaml>=5.1 in /anaconda/envs/azureml_py310_sdkv2/lib/python3.10/site-packages (from huggingface_hub) (6.0)\nRequirement already satisfied: typing-extensions>=3.7.4.3 in /anaconda/envs/azureml_py310_sdkv2/lib/python3.10/site-packages (from huggingface_hub) (4.9.0)\nRequirement already satisfied: packaging>=20.9 in /anaconda/envs/azureml_py310_sdkv2/lib/python3.10/site-packages (from huggingface_hub) (23.0)\nRequirement already satisfied: charset-normalizer<4,>=2 in /anaconda/envs/azureml_py310_sdkv2/lib/python3.10/site-packages (from requests->huggingface_hub) (3.1.0)\nRequirement already satisfied: idna<4,>=2.5 in /anaconda/envs/azureml_py310_sdkv2/lib/python3.10/site-packages (from requests->huggingface_hub) (3.4)\nRequirement already satisfied: urllib3<3,>=1.21.1 in /anaconda/envs/azureml_py310_sdkv2/lib/python3.10/site-packages (from requests->huggingface_hub) (1.26.16)\nRequirement already satisfied: certifi>=2017.4.17 in /anaconda/envs/azureml_py310_sdkv2/lib/python3.10/site-packages (from requests->huggingface_hub) (2023.5.7)\nNote: you may need to restart the kernel to use updated packages.\n"
        }
      ],
      "execution_count": 3,
      "metadata": {
        "jupyter": {
          "source_hidden": false,
          "outputs_hidden": false
        },
        "nteract": {
          "transient": {
            "deleting": false
          }
        },
        "gather": {
          "logged": 1708404851421
        }
      }
    },
    {
      "cell_type": "code",
      "source": [
        "pip install torch torchvision"
      ],
      "outputs": [
        {
          "output_type": "stream",
          "name": "stdout",
          "text": "Requirement already satisfied: torch in /anaconda/envs/azureml_py310_sdkv2/lib/python3.10/site-packages (2.2.0)\nRequirement already satisfied: torchvision in /anaconda/envs/azureml_py310_sdkv2/lib/python3.10/site-packages (0.17.0)\nRequirement already satisfied: filelock in /anaconda/envs/azureml_py310_sdkv2/lib/python3.10/site-packages (from torch) (3.12.2)\nRequirement already satisfied: typing-extensions>=4.8.0 in /anaconda/envs/azureml_py310_sdkv2/lib/python3.10/site-packages (from torch) (4.9.0)\nRequirement already satisfied: sympy in /anaconda/envs/azureml_py310_sdkv2/lib/python3.10/site-packages (from torch) (1.12)\nRequirement already satisfied: networkx in /anaconda/envs/azureml_py310_sdkv2/lib/python3.10/site-packages (from torch) (3.1)\nRequirement already satisfied: jinja2 in /anaconda/envs/azureml_py310_sdkv2/lib/python3.10/site-packages (from torch) (3.1.2)\nRequirement already satisfied: fsspec in /anaconda/envs/azureml_py310_sdkv2/lib/python3.10/site-packages (from torch) (2023.6.0)\nRequirement already satisfied: nvidia-cuda-nvrtc-cu12==12.1.105 in /anaconda/envs/azureml_py310_sdkv2/lib/python3.10/site-packages (from torch) (12.1.105)\nRequirement already satisfied: nvidia-cuda-runtime-cu12==12.1.105 in /anaconda/envs/azureml_py310_sdkv2/lib/python3.10/site-packages (from torch) (12.1.105)\nRequirement already satisfied: nvidia-cuda-cupti-cu12==12.1.105 in /anaconda/envs/azureml_py310_sdkv2/lib/python3.10/site-packages (from torch) (12.1.105)\nRequirement already satisfied: nvidia-cudnn-cu12==8.9.2.26 in /anaconda/envs/azureml_py310_sdkv2/lib/python3.10/site-packages (from torch) (8.9.2.26)\nRequirement already satisfied: nvidia-cublas-cu12==12.1.3.1 in /anaconda/envs/azureml_py310_sdkv2/lib/python3.10/site-packages (from torch) (12.1.3.1)\nRequirement already satisfied: nvidia-cufft-cu12==11.0.2.54 in /anaconda/envs/azureml_py310_sdkv2/lib/python3.10/site-packages (from torch) (11.0.2.54)\nRequirement already satisfied: nvidia-curand-cu12==10.3.2.106 in /anaconda/envs/azureml_py310_sdkv2/lib/python3.10/site-packages (from torch) (10.3.2.106)\nRequirement already satisfied: nvidia-cusolver-cu12==11.4.5.107 in /anaconda/envs/azureml_py310_sdkv2/lib/python3.10/site-packages (from torch) (11.4.5.107)\nRequirement already satisfied: nvidia-cusparse-cu12==12.1.0.106 in /anaconda/envs/azureml_py310_sdkv2/lib/python3.10/site-packages (from torch) (12.1.0.106)\nRequirement already satisfied: nvidia-nccl-cu12==2.19.3 in /anaconda/envs/azureml_py310_sdkv2/lib/python3.10/site-packages (from torch) (2.19.3)\nRequirement already satisfied: nvidia-nvtx-cu12==12.1.105 in /anaconda/envs/azureml_py310_sdkv2/lib/python3.10/site-packages (from torch) (12.1.105)\nRequirement already satisfied: triton==2.2.0 in /anaconda/envs/azureml_py310_sdkv2/lib/python3.10/site-packages (from torch) (2.2.0)\nRequirement already satisfied: nvidia-nvjitlink-cu12 in /anaconda/envs/azureml_py310_sdkv2/lib/python3.10/site-packages (from nvidia-cusolver-cu12==11.4.5.107->torch) (12.3.101)\nRequirement already satisfied: numpy in /anaconda/envs/azureml_py310_sdkv2/lib/python3.10/site-packages (from torchvision) (1.25.0)\nRequirement already satisfied: requests in /anaconda/envs/azureml_py310_sdkv2/lib/python3.10/site-packages (from torchvision) (2.31.0)\nRequirement already satisfied: pillow!=8.3.*,>=5.3.0 in /anaconda/envs/azureml_py310_sdkv2/lib/python3.10/site-packages (from torchvision) (9.5.0)\nRequirement already satisfied: MarkupSafe>=2.0 in /anaconda/envs/azureml_py310_sdkv2/lib/python3.10/site-packages (from jinja2->torch) (2.1.3)\nRequirement already satisfied: charset-normalizer<4,>=2 in /anaconda/envs/azureml_py310_sdkv2/lib/python3.10/site-packages (from requests->torchvision) (3.1.0)\nRequirement already satisfied: idna<4,>=2.5 in /anaconda/envs/azureml_py310_sdkv2/lib/python3.10/site-packages (from requests->torchvision) (3.4)\nRequirement already satisfied: urllib3<3,>=1.21.1 in /anaconda/envs/azureml_py310_sdkv2/lib/python3.10/site-packages (from requests->torchvision) (1.26.16)\nRequirement already satisfied: certifi>=2017.4.17 in /anaconda/envs/azureml_py310_sdkv2/lib/python3.10/site-packages (from requests->torchvision) (2023.5.7)\nRequirement already satisfied: mpmath>=0.19 in /anaconda/envs/azureml_py310_sdkv2/lib/python3.10/site-packages (from sympy->torch) (1.3.0)\nNote: you may need to restart the kernel to use updated packages.\n"
        }
      ],
      "execution_count": 4,
      "metadata": {
        "jupyter": {
          "source_hidden": false,
          "outputs_hidden": false
        },
        "nteract": {
          "transient": {
            "deleting": false
          }
        },
        "gather": {
          "logged": 1708404856553
        }
      }
    },
    {
      "cell_type": "code",
      "source": [
        "pip install ipywidgets"
      ],
      "outputs": [
        {
          "output_type": "stream",
          "name": "stdout",
          "text": "Requirement already satisfied: ipywidgets in /anaconda/envs/azureml_py310_sdkv2/lib/python3.10/site-packages (8.1.2)\nRequirement already satisfied: comm>=0.1.3 in /anaconda/envs/azureml_py310_sdkv2/lib/python3.10/site-packages (from ipywidgets) (0.2.1)\nRequirement already satisfied: ipython>=6.1.0 in /anaconda/envs/azureml_py310_sdkv2/lib/python3.10/site-packages (from ipywidgets) (8.14.0)\nRequirement already satisfied: traitlets>=4.3.1 in /anaconda/envs/azureml_py310_sdkv2/lib/python3.10/site-packages (from ipywidgets) (5.9.0)\nRequirement already satisfied: widgetsnbextension~=4.0.10 in /anaconda/envs/azureml_py310_sdkv2/lib/python3.10/site-packages (from ipywidgets) (4.0.10)\nRequirement already satisfied: jupyterlab-widgets~=3.0.10 in /anaconda/envs/azureml_py310_sdkv2/lib/python3.10/site-packages (from ipywidgets) (3.0.10)\nRequirement already satisfied: backcall in /anaconda/envs/azureml_py310_sdkv2/lib/python3.10/site-packages (from ipython>=6.1.0->ipywidgets) (0.2.0)\nRequirement already satisfied: decorator in /anaconda/envs/azureml_py310_sdkv2/lib/python3.10/site-packages (from ipython>=6.1.0->ipywidgets) (5.1.1)\nRequirement already satisfied: jedi>=0.16 in /anaconda/envs/azureml_py310_sdkv2/lib/python3.10/site-packages (from ipython>=6.1.0->ipywidgets) (0.18.2)\nRequirement already satisfied: matplotlib-inline in /anaconda/envs/azureml_py310_sdkv2/lib/python3.10/site-packages (from ipython>=6.1.0->ipywidgets) (0.1.6)\nRequirement already satisfied: pickleshare in /anaconda/envs/azureml_py310_sdkv2/lib/python3.10/site-packages (from ipython>=6.1.0->ipywidgets) (0.7.5)\nRequirement already satisfied: prompt-toolkit!=3.0.37,<3.1.0,>=3.0.30 in /anaconda/envs/azureml_py310_sdkv2/lib/python3.10/site-packages (from ipython>=6.1.0->ipywidgets) (3.0.38)\nRequirement already satisfied: pygments>=2.4.0 in /anaconda/envs/azureml_py310_sdkv2/lib/python3.10/site-packages (from ipython>=6.1.0->ipywidgets) (2.15.1)\nRequirement already satisfied: stack-data in /anaconda/envs/azureml_py310_sdkv2/lib/python3.10/site-packages (from ipython>=6.1.0->ipywidgets) (0.6.2)\nRequirement already satisfied: pexpect>4.3 in /anaconda/envs/azureml_py310_sdkv2/lib/python3.10/site-packages (from ipython>=6.1.0->ipywidgets) (4.8.0)\nRequirement already satisfied: parso<0.9.0,>=0.8.0 in /anaconda/envs/azureml_py310_sdkv2/lib/python3.10/site-packages (from jedi>=0.16->ipython>=6.1.0->ipywidgets) (0.8.3)\nRequirement already satisfied: ptyprocess>=0.5 in /anaconda/envs/azureml_py310_sdkv2/lib/python3.10/site-packages (from pexpect>4.3->ipython>=6.1.0->ipywidgets) (0.7.0)\nRequirement already satisfied: wcwidth in /anaconda/envs/azureml_py310_sdkv2/lib/python3.10/site-packages (from prompt-toolkit!=3.0.37,<3.1.0,>=3.0.30->ipython>=6.1.0->ipywidgets) (0.2.6)\nRequirement already satisfied: executing>=1.2.0 in /anaconda/envs/azureml_py310_sdkv2/lib/python3.10/site-packages (from stack-data->ipython>=6.1.0->ipywidgets) (1.2.0)\nRequirement already satisfied: asttokens>=2.1.0 in /anaconda/envs/azureml_py310_sdkv2/lib/python3.10/site-packages (from stack-data->ipython>=6.1.0->ipywidgets) (2.2.1)\nRequirement already satisfied: pure-eval in /anaconda/envs/azureml_py310_sdkv2/lib/python3.10/site-packages (from stack-data->ipython>=6.1.0->ipywidgets) (0.2.2)\nRequirement already satisfied: six in /anaconda/envs/azureml_py310_sdkv2/lib/python3.10/site-packages (from asttokens>=2.1.0->stack-data->ipython>=6.1.0->ipywidgets) (1.16.0)\nNote: you may need to restart the kernel to use updated packages.\n"
        }
      ],
      "execution_count": 5,
      "metadata": {
        "jupyter": {
          "source_hidden": false,
          "outputs_hidden": false
        },
        "nteract": {
          "transient": {
            "deleting": false
          }
        },
        "gather": {
          "logged": 1708404863405
        }
      }
    },
    {
      "cell_type": "code",
      "source": [
        "pip install -U weaviate-client  # For beta versions: `pip install --pre -U \"weaviate-client==4.*\"`"
      ],
      "outputs": [
        {
          "output_type": "stream",
          "name": "stdout",
          "text": "Requirement already satisfied: weaviate-client in /anaconda/envs/azureml_py310_sdkv2/lib/python3.10/site-packages (4.4.4)\nRequirement already satisfied: requests<3.0.0,>=2.30.0 in /anaconda/envs/azureml_py310_sdkv2/lib/python3.10/site-packages (from weaviate-client) (2.31.0)\nRequirement already satisfied: httpx==0.26.0 in /anaconda/envs/azureml_py310_sdkv2/lib/python3.10/site-packages (from weaviate-client) (0.26.0)\nRequirement already satisfied: validators==0.22.0 in /anaconda/envs/azureml_py310_sdkv2/lib/python3.10/site-packages (from weaviate-client) (0.22.0)\nRequirement already satisfied: authlib<2.0.0,>=1.2.1 in /anaconda/envs/azureml_py310_sdkv2/lib/python3.10/site-packages (from weaviate-client) (1.3.0)\nRequirement already satisfied: pydantic<3.0.0,>=2.5.0 in /anaconda/envs/azureml_py310_sdkv2/lib/python3.10/site-packages (from weaviate-client) (2.6.1)\nRequirement already satisfied: grpcio<2.0.0,>=1.57.0 in /anaconda/envs/azureml_py310_sdkv2/lib/python3.10/site-packages (from weaviate-client) (1.60.1)\nRequirement already satisfied: grpcio-tools<2.0.0,>=1.57.0 in /anaconda/envs/azureml_py310_sdkv2/lib/python3.10/site-packages (from weaviate-client) (1.60.1)\nRequirement already satisfied: grpcio-health-checking<2.0.0,>=1.57.0 in /anaconda/envs/azureml_py310_sdkv2/lib/python3.10/site-packages (from weaviate-client) (1.60.1)\nRequirement already satisfied: anyio in /anaconda/envs/azureml_py310_sdkv2/lib/python3.10/site-packages (from httpx==0.26.0->weaviate-client) (4.2.0)\nRequirement already satisfied: certifi in /anaconda/envs/azureml_py310_sdkv2/lib/python3.10/site-packages (from httpx==0.26.0->weaviate-client) (2023.5.7)\nRequirement already satisfied: httpcore==1.* in /anaconda/envs/azureml_py310_sdkv2/lib/python3.10/site-packages (from httpx==0.26.0->weaviate-client) (1.0.2)\nRequirement already satisfied: idna in /anaconda/envs/azureml_py310_sdkv2/lib/python3.10/site-packages (from httpx==0.26.0->weaviate-client) (3.4)\nRequirement already satisfied: sniffio in /anaconda/envs/azureml_py310_sdkv2/lib/python3.10/site-packages (from httpx==0.26.0->weaviate-client) (1.3.0)\nRequirement already satisfied: h11<0.15,>=0.13 in /anaconda/envs/azureml_py310_sdkv2/lib/python3.10/site-packages (from httpcore==1.*->httpx==0.26.0->weaviate-client) (0.14.0)\nRequirement already satisfied: cryptography in /anaconda/envs/azureml_py310_sdkv2/lib/python3.10/site-packages (from authlib<2.0.0,>=1.2.1->weaviate-client) (41.0.1)\nRequirement already satisfied: protobuf>=4.21.6 in /anaconda/envs/azureml_py310_sdkv2/lib/python3.10/site-packages (from grpcio-health-checking<2.0.0,>=1.57.0->weaviate-client) (4.25.2)\nRequirement already satisfied: setuptools in /anaconda/envs/azureml_py310_sdkv2/lib/python3.10/site-packages (from grpcio-tools<2.0.0,>=1.57.0->weaviate-client) (67.8.0)\nRequirement already satisfied: annotated-types>=0.4.0 in /anaconda/envs/azureml_py310_sdkv2/lib/python3.10/site-packages (from pydantic<3.0.0,>=2.5.0->weaviate-client) (0.6.0)\nRequirement already satisfied: pydantic-core==2.16.2 in /anaconda/envs/azureml_py310_sdkv2/lib/python3.10/site-packages (from pydantic<3.0.0,>=2.5.0->weaviate-client) (2.16.2)\nRequirement already satisfied: typing-extensions>=4.6.1 in /anaconda/envs/azureml_py310_sdkv2/lib/python3.10/site-packages (from pydantic<3.0.0,>=2.5.0->weaviate-client) (4.9.0)\nRequirement already satisfied: charset-normalizer<4,>=2 in /anaconda/envs/azureml_py310_sdkv2/lib/python3.10/site-packages (from requests<3.0.0,>=2.30.0->weaviate-client) (3.1.0)\nRequirement already satisfied: urllib3<3,>=1.21.1 in /anaconda/envs/azureml_py310_sdkv2/lib/python3.10/site-packages (from requests<3.0.0,>=2.30.0->weaviate-client) (1.26.16)\nRequirement already satisfied: exceptiongroup>=1.0.2 in /anaconda/envs/azureml_py310_sdkv2/lib/python3.10/site-packages (from anyio->httpx==0.26.0->weaviate-client) (1.2.0)\nRequirement already satisfied: cffi>=1.12 in /anaconda/envs/azureml_py310_sdkv2/lib/python3.10/site-packages (from cryptography->authlib<2.0.0,>=1.2.1->weaviate-client) (1.15.1)\nRequirement already satisfied: pycparser in /anaconda/envs/azureml_py310_sdkv2/lib/python3.10/site-packages (from cffi>=1.12->cryptography->authlib<2.0.0,>=1.2.1->weaviate-client) (2.21)\nNote: you may need to restart the kernel to use updated packages.\n"
        }
      ],
      "execution_count": 6,
      "metadata": {
        "jupyter": {
          "source_hidden": false,
          "outputs_hidden": false
        },
        "nteract": {
          "transient": {
            "deleting": false
          }
        },
        "gather": {
          "logged": 1708404868564
        }
      }
    },
    {
      "cell_type": "code",
      "source": [
        "from huggingface_hub import notebook_login\n",
        "notebook_login()"
      ],
      "outputs": [
        {
          "output_type": "display_data",
          "data": {
            "text/plain": "VBox(children=(HTML(value='<center> <img\\nsrc=https://huggingface.co/front/assets/huggingface_logo-noborder.sv…",
            "application/vnd.jupyter.widget-view+json": {
              "version_major": 2,
              "version_minor": 0,
              "model_id": "dce4488a06c14855b8d66a64c9eb55d5"
            }
          },
          "metadata": {}
        }
      ],
      "execution_count": 7,
      "metadata": {
        "jupyter": {
          "source_hidden": false,
          "outputs_hidden": false
        },
        "nteract": {
          "transient": {
            "deleting": false
          }
        },
        "gather": {
          "logged": 1708404873187
        }
      }
    },
    {
      "cell_type": "code",
      "source": [
        "import os\n",
        "import weaviate\n",
        "import PyPDF2\n",
        "from transformers import AutoTokenizer, AutoModel"
      ],
      "outputs": [
        {
          "output_type": "stream",
          "name": "stderr",
          "text": "/anaconda/envs/azureml_py310_sdkv2/lib/python3.10/site-packages/PyPDF2/__init__.py:21: DeprecationWarning: PyPDF2 is deprecated. Please move to the pypdf library instead.\n  warnings.warn(\n"
        }
      ],
      "execution_count": 8,
      "metadata": {
        "gather": {
          "logged": 1708404896847
        }
      }
    },
    {
      "cell_type": "code",
      "source": [
        "# Carga el texto de documentos PDF\n",
        "def cargar_texto_desde_pdf(ruta_pdf):\n",
        "    texto = \"\"\n",
        "    with open(ruta_pdf, \"rb\") as archivo_pdf:\n",
        "        lector_pdf = PyPDF2.PdfReader(archivo_pdf)\n",
        "        for pagina in lector_pdf.pages:\n",
        "            texto += pagina.extract_text()\n",
        "    return texto\n",
        "\n",
        "ruta_pdf = \"PDFs/02BD1_MDD_ppt.pdf\"\n",
        "texto_pdf = cargar_texto_desde_pdf(ruta_pdf)\n",
        "\n",
        "print(texto_pdf)"
      ],
      "outputs": [
        {
          "output_type": "stream",
          "name": "stdout",
          "text": "1Base de Datos 1 \n• Licenciatura e Ingeniería en Informática • 2do. año\nEste material es de uso exclusivo para los cursos i mpartidos por Universidad de la Empresa y asociados 2\nEste material es de uso exclusivo para los cursos i mpartidos por Universidad de la Empresa y asociados Modelos de Datos \n• Conceptos Generales \n–Interpretar una realidad –Definir reglas que permitan estructurar los datos –Estrictamente tipeados(cada dato pertenece a algun a categoría \ncon sus propiedades). \n• Modelo de Datos \nM ( G , O ) \n–G  Reglas generatrices \n•Estructuras •Restricciones \n–O Operaciones \n•Dinámicas •Cambio en el estado de la BD 3\nEste material es de uso exclusivo para los cursos i mpartidos por Universidad de la Empresa y asociados Estructuras \n• Abstracción\n–Ocultar los detalles y concentrarse en los concept os comunes \ngenerales a un objeto –Obtener la categorización de datos \n• Niveles de abstracción\n–Nivel de token \n•Valor real, instancia particular de un objeto. \n–Nivel de tipo \n•Clases de tokens.4\nEste material es de uso exclusivo para los cursos i mpartidos por Universidad de la Empresa y asociados Estructuras \n• Formas de lograr abstracción\n–Por generalización\n•Tomar el conjunto de tokens o tipos como un tipo ge nérico. \n•Ir del tokenal tipo /barb2rightclasificación 1/ instanciación\n•Ir del tipo al tipo genérico /barb2rightgeneralización 2/ especialización\nEj. del concepto empleados (sus tokens o tipos) a \nEMPLEADOS 1\ndel concepto ESTUDIANTES y DOCENTES a \nPERSONAS 2\n–Herencia –las propiedades del tipo generalizado so n heredadas \npor sus tipos especializados. \n•Ej. (nombre, edad, dirección) es de PERSONAS y tam bién los será\nde DOCENTES Y ESTUDIANTES. •(salario) serásólo de DOCENTES. 5\nEste material es de uso exclusivo para los cursos i mpartidos por Universidad de la Empresa y asociados Estructuras \n• Formas de lograr abstracción\n–Por agregación\n•Un objeto se construye a partir de sus objetos con stituyentes. \n•Seráa nivel de tokeno de tipo. \n– Intensionales \n» Ej. (nombre, edad, dirección) \n– Extensionales (instancias de tokens)\n» Ej. (“beatriz”, “33”, “21 de setiembre 2741”)6\nEste material es de uso exclusivo para los cursos i mpartidos por Universidad de la Empresa y asociados Conjuntos, Dominios y \nAtributos \n• Conjuntos \n–Colección de objetos identificados. \n• Dominios \n–Conjuntos homogéneos –Rangos de valores \n• Atributos \n–Dominio con nombre. –La extensión del dominio son los valores que tomar á.7\nEste material es de uso exclusivo para los cursos i mpartidos por Universidad de la Empresa y asociados Entidades y Relaciones \n• Entidades \n–Identidades particulares \n• Relaciones \n–Conjuntos de N tuplas(producto cartesiano de atrib utos) \n–Un tipo definido por asociación de entidades. 8\nEste material es de uso exclusivo para los cursos i mpartidos por Universidad de la Empresa y asociados Restricciones de Integridad \n•Inherentes \n–Propias del rango de valores \n• Explícitas \n–Declaradas específicamente \nEj. \n…\n\n"
        }
      ],
      "execution_count": 9,
      "metadata": {
        "jupyter": {
          "source_hidden": false,
          "outputs_hidden": false
        },
        "nteract": {
          "transient": {
            "deleting": false
          }
        },
        "gather": {
          "logged": 1708404897013
        }
      }
    },
    {
      "cell_type": "code",
      "source": [
        "pip install nltk"
      ],
      "outputs": [
        {
          "output_type": "stream",
          "name": "stdout",
          "text": "Requirement already satisfied: nltk in /anaconda/envs/azureml_py310_sdkv2/lib/python3.10/site-packages (3.8.1)\nRequirement already satisfied: click in /anaconda/envs/azureml_py310_sdkv2/lib/python3.10/site-packages (from nltk) (8.0.4)\nRequirement already satisfied: joblib in /anaconda/envs/azureml_py310_sdkv2/lib/python3.10/site-packages (from nltk) (1.2.0)\nRequirement already satisfied: regex>=2021.8.3 in /anaconda/envs/azureml_py310_sdkv2/lib/python3.10/site-packages (from nltk) (2023.12.25)\nRequirement already satisfied: tqdm in /anaconda/envs/azureml_py310_sdkv2/lib/python3.10/site-packages (from nltk) (4.65.0)\nNote: you may need to restart the kernel to use updated packages.\n"
        }
      ],
      "execution_count": 10,
      "metadata": {
        "jupyter": {
          "source_hidden": false,
          "outputs_hidden": false
        },
        "nteract": {
          "transient": {
            "deleting": false
          }
        },
        "gather": {
          "logged": 1708404903011
        }
      }
    },
    {
      "cell_type": "code",
      "source": [
        "import nltk\n",
        "nltk.download('punkt')  # Descarga los datos necesarios para tokenizar oraciones\n",
        "\n",
        "from nltk.tokenize import sent_tokenize\n",
        "\n",
        "def split_into_sentences(text):\n",
        "    return sent_tokenize(text)\n",
        "\n",
        "# Ejemplo de uso:\n",
        "input_text = \"Este es un ejemplo de texto. Contiene dos oraciones.\"\n",
        "sentences = split_into_sentences(input_text)\n",
        "print(sentences)\n"
      ],
      "outputs": [],
      "execution_count": null,
      "metadata": {
        "jupyter": {
          "source_hidden": false,
          "outputs_hidden": false
        },
        "nteract": {
          "transient": {
            "deleting": false
          }
        },
        "gather": {
          "logged": 1708402443323
        }
      }
    },
    {
      "cell_type": "code",
      "source": [
        "# python src/transformers/models/llama/convert_llama_weights_to_hf.py \\\n",
        "#     --input_dir /path/to/downloaded/llama/weights --model_size 7B --output_dir /output/path"
      ],
      "outputs": [],
      "execution_count": null,
      "metadata": {
        "jupyter": {
          "source_hidden": false,
          "outputs_hidden": false
        },
        "nteract": {
          "transient": {
            "deleting": false
          }
        },
        "gather": {
          "logged": 1708295113406
        }
      }
    },
    {
      "cell_type": "code",
      "source": [
        "# Carga el modelo Llama-2\n",
        "model_name = \"meta-llama/Llama-2-7b-chat-hf\"\n",
        "tokenizer = AutoTokenizer.from_pretrained(model_name, model_max_length=512)\n",
        "model = AutoModel.from_pretrained(model_name)\n",
        "\n",
        "# Carga el modelo Llama-2 preentrenado\n",
        "# tokenizer = AutoTokenizer.from_pretrained(\"TheBloke/Llama-2-7B-Chat-GGML\")\n",
        "# model = AutoModel.from_pretrained(\"TheBloke/Llama-2-7B-Chat-GGML\")"
      ],
      "outputs": [
        {
          "output_type": "display_data",
          "data": {
            "text/plain": "Loading checkpoint shards:   0%|          | 0/2 [00:00<?, ?it/s]",
            "application/vnd.jupyter.widget-view+json": {
              "version_major": 2,
              "version_minor": 0,
              "model_id": "1935e8a041254b87bac53a103ffa68f6"
            }
          },
          "metadata": {}
        }
      ],
      "execution_count": 11,
      "metadata": {
        "jupyter": {
          "source_hidden": false,
          "outputs_hidden": false
        },
        "nteract": {
          "transient": {
            "deleting": false
          }
        },
        "gather": {
          "logged": 1708404999563
        }
      }
    },
    {
      "cell_type": "code",
      "source": [
        "import torch"
      ],
      "outputs": [],
      "execution_count": 12,
      "metadata": {
        "jupyter": {
          "source_hidden": false,
          "outputs_hidden": false
        },
        "nteract": {
          "transient": {
            "deleting": false
          }
        },
        "gather": {
          "logged": 1708405004840
        }
      }
    },
    {
      "cell_type": "code",
      "source": [
        "# # Tokeniza el texto\n",
        "# tokenized_text = tokenizer(sentences, pad_token=\"[PAD]\", padding=True, truncation=True, return_tensors=\"pt\")\n",
        "\n",
        "# # Genera representaciones vectoriales\n",
        "# with torch.no_grad():\n",
        "#     outputs = model(tokenized_text)\n",
        "\n",
        "# # Las representaciones vectoriales están en outputs.last_hidden_state\n",
        "# representations = outputs.last_hidden_state"
      ],
      "outputs": [],
      "execution_count": null,
      "metadata": {
        "jupyter": {
          "source_hidden": false,
          "outputs_hidden": false
        },
        "nteract": {
          "transient": {
            "deleting": false
          }
        },
        "gather": {
          "logged": 1708295311623
        }
      }
    },
    {
      "cell_type": "code",
      "source": [
        "\n",
        "# Configura la clave de API de Weaviate\n",
        "os.environ['WEAVIATE_API_KEY'] = \"TP3jGvfknJ3ZIQGDthvpWs3QkGtJaN8C7e0l\""
      ],
      "outputs": [],
      "execution_count": 13,
      "metadata": {
        "jupyter": {
          "source_hidden": false,
          "outputs_hidden": false
        },
        "nteract": {
          "transient": {
            "deleting": false
          }
        },
        "gather": {
          "logged": 1708405007799
        }
      }
    },
    {
      "cell_type": "code",
      "source": [
        "# Consulta Weaviate para buscar documentos relevantes\n",
        "def buscar_documentos(query):\n",
        "    cliente_weaviate = weaviate.Client(\n",
        "        url = \"https://prueba1-dzfgg9kd.weaviate.network\",  # Replace with your endpoint\n",
        "        auth_client_secret=weaviate.auth.AuthApiKey(api_key=\"TP3jGvfknJ3ZIQGDthvpWs3QkGtJaN8C7e0l\"),  # Replace w/ your Weaviate instance API key\n",
        "    )\n",
        "    resultados = cliente_weaviate.query.get(\n",
        "        \"DocumentosPDF\",\n",
        "        ['body']\n",
        "    ).with_near_text(\n",
        "        {\"concepts\": [query]}\n",
        "    ).with_limit(5).do()\n",
        "    return resultados"
      ],
      "outputs": [],
      "execution_count": 14,
      "metadata": {
        "jupyter": {
          "source_hidden": false,
          "outputs_hidden": false
        },
        "nteract": {
          "transient": {
            "deleting": false
          }
        },
        "gather": {
          "logged": 1708405014354
        }
      }
    },
    {
      "cell_type": "code",
      "source": [
        "def almacenar_en_weaviate(representaciones_vectoriales):\n",
        "    cliente_weaviate = weaviate.Client(\n",
        "        url = \"https://prueba1-dzfgg9kd.weaviate.network\",  # Replace with your endpoint\n",
        "        auth_client_secret = weaviate.auth.AuthApiKey(api_key=\"TP3jGvfknJ3ZIQGDthvpWs3QkGtJaN8C7e0l\"),  # Replace w/ your Weaviate instance API key\n",
        "    )\n",
        "    clase_documentos_pdf = \"DocumentosPDF\"  # Crea esta clase en tu instancia de Weaviate\n",
        "\n",
        "    # for idx, representacion in enumerate(representaciones_vectoriales):\n",
        "    #     cliente_weaviate.data_object.create(\n",
        "    #         class_name = clase_documentos_pdf,\n",
        "    #         vector = representacion.tolist()\n",
        "    #     )\n",
        "\n",
        "    # for idx, representacion in enumerate(representaciones_vectoriales):\n",
        "    # # Crea un objeto de datos con un vector\n",
        "    #     data_object = {\n",
        "    #         \"name\" : \"MyVectorData\",  # Nombre de la clase\n",
        "    #         \"myVectorProperty\" : [0.1, 0.2, 0.3]  # Vector de ejemplo\n",
        "    #     }\n",
        "    #     # Guarda el objeto de datos en Weaviate\n",
        "    #     cliente_weaviate.data.create(data_object, class_name=\"MyVectorData\")\n",
        "\n",
        "    for idx, representacion in enumerate(representaciones_vectoriales):\n",
        "        cliente_weaviate.batch.add_data_object(\n",
        "            {\"source_text\": representacion['texto'],},\n",
        "            # source_text = representacion['texto'],\n",
        "            # class_name = clase_documentos_pdf,\n",
        "            clase_documentos_pdf,\n",
        "            vector = representacion['vector'].tolist()\n",
        "        )\n",
        "    # cliente_weaviate.batch.add_data_object(\n",
        "    #         # data_obj, \n",
        "    #         \"MyVectorData\", \n",
        "    #         vector=vector  # Provide openai vector\n",
        "    #     )\n",
        "\n",
        "    # for idx, representacion in enumerate(representaciones_vectoriales):\n",
        "    #     cliente_weaviate.batch.create(\n",
        "    #         clase_documentos_pdf,\n",
        "    #         [\n",
        "    #             {\"id\": f\"documento_{idx}\", \"vector\": representacion.tolist()}\n",
        "    #         ]\n",
        "    #     )"
      ],
      "outputs": [],
      "execution_count": 15,
      "metadata": {
        "jupyter": {
          "source_hidden": false,
          "outputs_hidden": false
        },
        "nteract": {
          "transient": {
            "deleting": false
          }
        },
        "gather": {
          "logged": 1708405017368
        }
      }
    },
    {
      "cell_type": "code",
      "source": [
        "def generar_representaciones_vectoriales(texto):\n",
        "    # Ejemplo ficticio:\n",
        "    representaciones_vectoriales = []\n",
        "    for oracion in texto.split(\".\"):\n",
        "        # Tokeniza y genera representación vectorial\n",
        "        tokenizer.add_special_tokens({'pad_token': '[PAD]'})\n",
        "        entrada = tokenizer.encode(oracion, return_tensors=\"pt\", padding=True, truncation=True)\n",
        "        with torch.no_grad():\n",
        "            representacion = {\n",
        "                \"texto\" : oracion,\n",
        "                \"vector\" : model(entrada).last_hidden_state.mean(dim=1).numpy()\n",
        "            }\n",
        "            # representacion = model(entrada).last_hidden_state.mean(dim=1).numpy()\n",
        "            representaciones_vectoriales.append(representacion)\n",
        "    print(representaciones_vectoriales)\n",
        "    return representaciones_vectoriales"
      ],
      "outputs": [],
      "execution_count": 16,
      "metadata": {
        "jupyter": {
          "source_hidden": false,
          "outputs_hidden": false
        },
        "nteract": {
          "transient": {
            "deleting": false
          }
        },
        "gather": {
          "logged": 1708405021991
        }
      }
    },
    {
      "cell_type": "code",
      "source": [
        "client = weaviate.Client(\n",
        "    url = \"https://prueba1-dzfgg9kd.weaviate.network\",  # Replace with your endpoint\n",
        "    auth_client_secret=weaviate.auth.AuthApiKey(api_key=\"TP3jGvfknJ3ZIQGDthvpWs3QkGtJaN8C7e0l\"),  # Replace w/ your Weaviate instance API key\n",
        ")"
      ],
      "outputs": [
        {
          "output_type": "stream",
          "name": "stderr",
          "text": "/anaconda/envs/azureml_py310_sdkv2/lib/python3.10/site-packages/weaviate/warnings.py:158: DeprecationWarning: Dep016: You are using the Weaviate v3 client, which is deprecated.\n            Consider upgrading to the new and improved v4 client instead!\n            See here for usage: https://weaviate.io/developers/weaviate/client-libraries/python\n            \n  warnings.warn(\n"
        }
      ],
      "execution_count": 17,
      "metadata": {
        "jupyter": {
          "source_hidden": false,
          "outputs_hidden": false
        },
        "nteract": {
          "transient": {
            "deleting": false
          }
        },
        "gather": {
          "logged": 1708405024941
        }
      }
    },
    {
      "cell_type": "code",
      "source": [
        "def jprint(json_in):\n",
        "    import json\n",
        "    print(json.dumps(json_in, indent=2))\n",
        "\n",
        "jprint(client.get_meta())"
      ],
      "outputs": [
        {
          "output_type": "stream",
          "name": "stdout",
          "text": "{\n  \"hostname\": \"http://[::]:8080\",\n  \"modules\": {\n    \"generative-aws\": {\n      \"documentationHref\": \"https://docs.aws.amazon.com/bedrock/latest/APIReference/welcome.html\",\n      \"name\": \"Generative Search - AWS\"\n    },\n    \"generative-cohere\": {\n      \"documentationHref\": \"https://docs.cohere.com/reference/generate\",\n      \"name\": \"Generative Search - Cohere\"\n    },\n    \"generative-openai\": {\n      \"documentationHref\": \"https://platform.openai.com/docs/api-reference/completions\",\n      \"name\": \"Generative Search - OpenAI\"\n    },\n    \"generative-palm\": {\n      \"documentationHref\": \"https://cloud.google.com/vertex-ai/docs/generative-ai/chat/test-chat-prompts\",\n      \"name\": \"Generative Search - Google PaLM\"\n    },\n    \"qna-openai\": {\n      \"documentationHref\": \"https://platform.openai.com/docs/api-reference/completions\",\n      \"name\": \"OpenAI Question & Answering Module\"\n    },\n    \"ref2vec-centroid\": {},\n    \"reranker-cohere\": {\n      \"documentationHref\": \"https://txt.cohere.com/rerank/\",\n      \"name\": \"Reranker - Cohere\"\n    },\n    \"text2vec-aws\": {\n      \"documentationHref\": \"https://cloud.google.com/vertex-ai/docs/generative-ai/embeddings/get-text-embeddings\",\n      \"name\": \"AWS Module\"\n    },\n    \"text2vec-cohere\": {\n      \"documentationHref\": \"https://docs.cohere.ai/embedding-wiki/\",\n      \"name\": \"Cohere Module\"\n    },\n    \"text2vec-huggingface\": {\n      \"documentationHref\": \"https://huggingface.co/docs/api-inference/detailed_parameters#feature-extraction-task\",\n      \"name\": \"Hugging Face Module\"\n    },\n    \"text2vec-jinaai\": {\n      \"documentationHref\": \"https://jina.ai/embeddings/\",\n      \"name\": \"JinaAI Module\"\n    },\n    \"text2vec-openai\": {\n      \"documentationHref\": \"https://platform.openai.com/docs/guides/embeddings/what-are-embeddings\",\n      \"name\": \"OpenAI Module\"\n    },\n    \"text2vec-palm\": {\n      \"documentationHref\": \"https://cloud.google.com/vertex-ai/docs/generative-ai/embeddings/get-text-embeddings\",\n      \"name\": \"Google PaLM Module\"\n    }\n  },\n  \"version\": \"1.23.7\"\n}\n"
        }
      ],
      "execution_count": 18,
      "metadata": {
        "jupyter": {
          "source_hidden": false,
          "outputs_hidden": false
        },
        "nteract": {
          "transient": {
            "deleting": false
          }
        },
        "gather": {
          "logged": 1708405027886
        }
      }
    },
    {
      "cell_type": "code",
      "source": [
        "# jprint(client.schema.get())\n",
        "\n",
        "class_obj = {\n",
        "    \"class\": \"DocumentosPDF2\",\n",
        "    \"vectorizer\": \"text2vec-huggingface\",\n",
        "    \"moduleConfig\": {\n",
        "        \"text2vec-huggingface\": {\n",
        "            \"vectorizeClassName\": True\n",
        "        }\n",
        "    } \n",
        "}\n",
        "\n",
        "# Add the class to the schema\n",
        "client.schema.create_class(class_obj)\n",
        "\n",
        "jprint(client.schema.get())"
      ],
      "outputs": [
        {
          "output_type": "stream",
          "name": "stdout",
          "text": "{\n  \"classes\": [\n    {\n      \"class\": \"DocumentosPDF\",\n      \"invertedIndexConfig\": {\n        \"bm25\": {\n          \"b\": 0.75,\n          \"k1\": 1.2\n        },\n        \"cleanupIntervalSeconds\": 60,\n        \"stopwords\": {\n          \"additions\": null,\n          \"preset\": \"en\",\n          \"removals\": null\n        }\n      },\n      \"multiTenancyConfig\": {\n        \"enabled\": false\n      },\n      \"properties\": [],\n      \"replicationConfig\": {\n        \"factor\": 1\n      },\n      \"shardingConfig\": {\n        \"virtualPerPhysical\": 128,\n        \"desiredCount\": 1,\n        \"actualCount\": 1,\n        \"desiredVirtualCount\": 128,\n        \"actualVirtualCount\": 128,\n        \"key\": \"_id\",\n        \"strategy\": \"hash\",\n        \"function\": \"murmur3\"\n      },\n      \"vectorIndexConfig\": {\n        \"skip\": false,\n        \"cleanupIntervalSeconds\": 300,\n        \"maxConnections\": 64,\n        \"efConstruction\": 128,\n        \"ef\": -1,\n        \"dynamicEfMin\": 100,\n        \"dynamicEfMax\": 500,\n        \"dynamicEfFactor\": 8,\n        \"vectorCacheMaxObjects\": 1000000000000,\n        \"flatSearchCutoff\": 40000,\n        \"distance\": \"cosine\",\n        \"pq\": {\n          \"enabled\": false,\n          \"bitCompression\": false,\n          \"segments\": 0,\n          \"centroids\": 256,\n          \"trainingLimit\": 100000,\n          \"encoder\": {\n            \"type\": \"kmeans\",\n            \"distribution\": \"log-normal\"\n          }\n        }\n      },\n      \"vectorIndexType\": \"hnsw\",\n      \"vectorizer\": \"none\"\n    },\n    {\n      \"class\": \"DocumentosPDF2\",\n      \"invertedIndexConfig\": {\n        \"bm25\": {\n          \"b\": 0.75,\n          \"k1\": 1.2\n        },\n        \"cleanupIntervalSeconds\": 60,\n        \"stopwords\": {\n          \"additions\": null,\n          \"preset\": \"en\",\n          \"removals\": null\n        }\n      },\n      \"moduleConfig\": {\n        \"text2vec-huggingface\": {\n          \"vectorizeClassName\": true\n        }\n      },\n      \"multiTenancyConfig\": {\n        \"enabled\": false\n      },\n      \"properties\": [],\n      \"replicationConfig\": {\n        \"factor\": 1\n      },\n      \"shardingConfig\": {\n        \"virtualPerPhysical\": 128,\n        \"desiredCount\": 1,\n        \"actualCount\": 1,\n        \"desiredVirtualCount\": 128,\n        \"actualVirtualCount\": 128,\n        \"key\": \"_id\",\n        \"strategy\": \"hash\",\n        \"function\": \"murmur3\"\n      },\n      \"vectorIndexConfig\": {\n        \"skip\": false,\n        \"cleanupIntervalSeconds\": 300,\n        \"maxConnections\": 64,\n        \"efConstruction\": 128,\n        \"ef\": -1,\n        \"dynamicEfMin\": 100,\n        \"dynamicEfMax\": 500,\n        \"dynamicEfFactor\": 8,\n        \"vectorCacheMaxObjects\": 1000000000000,\n        \"flatSearchCutoff\": 40000,\n        \"distance\": \"cosine\",\n        \"pq\": {\n          \"enabled\": false,\n          \"bitCompression\": false,\n          \"segments\": 0,\n          \"centroids\": 256,\n          \"trainingLimit\": 100000,\n          \"encoder\": {\n            \"type\": \"kmeans\",\n            \"distribution\": \"log-normal\"\n          }\n        }\n      },\n      \"vectorIndexType\": \"hnsw\",\n      \"vectorizer\": \"text2vec-huggingface\"\n    }\n  ]\n}\n"
        }
      ],
      "execution_count": 20,
      "metadata": {
        "jupyter": {
          "source_hidden": false,
          "outputs_hidden": false
        },
        "nteract": {
          "transient": {
            "deleting": false
          }
        },
        "gather": {
          "logged": 1708405155536
        }
      }
    },
    {
      "cell_type": "code",
      "source": [
        "# Ejemplo de uso\n",
        "if __name__ == \"__main__\":\n",
        "    print(\"-- 1 --\")\n",
        "    ruta_pdf = \"PDFs/02BD1_MDD_ppt.pdf\"\n",
        "    texto_pdf = cargar_texto_desde_pdf(ruta_pdf)\n",
        "    representaciones = generar_representaciones_vectoriales(texto_pdf)\n",
        "    print(representaciones)\n",
        "    almacenar_en_weaviate(representaciones)\n",
        "\n",
        "    consulta_usuario = \"buscar información relevante\"\n",
        "    resultados_busqueda = buscar_documentos(consulta_usuario)\n",
        "    print(resultados_busqueda)"
      ],
      "outputs": [
        {
          "output_type": "stream",
          "name": "stdout",
          "text": "-- 1 --\n[{'texto': '1Base de Datos 1 \\n• Licenciatura e Ingeniería en Informática • 2do', 'vector': array([[ 0.9307846 ,  0.22104606, -0.04142186, ...,  0.68621475,\n         0.13347778,  0.59272456]], dtype=float32)}, {'texto': ' año\\nEste material es de uso exclusivo para los cursos i mpartidos por Universidad de la Empresa y asociados 2\\nEste material es de uso exclusivo para los cursos i mpartidos por Universidad de la Empresa y asociados Modelos de Datos \\n• Conceptos Generales \\n–Interpretar una realidad –Definir reglas que permitan estructurar los datos –Estrictamente tipeados(cada dato pertenece a algun a categoría \\ncon sus propiedades)', 'vector': array([[ 6.09859943e-01, -3.44942957e-01,  1.16705894e-04, ...,\n        -2.72184014e-01,  2.45567232e-01,  4.54548627e-01]], dtype=float32)}, {'texto': ' \\n• Modelo de Datos \\nM ( G , O ) \\n–G  Reglas generatrices \\n•Estructuras •Restricciones \\n–O Operaciones \\n•Dinámicas •Cambio en el estado de la BD 3\\nEste material es de uso exclusivo para los cursos i mpartidos por Universidad de la Empresa y asociados Estructuras \\n• Abstracción\\n–Ocultar los detalles y concentrarse en los concept os comunes \\ngenerales a un objeto –Obtener la categorización de datos \\n• Niveles de abstracción\\n–Nivel de token \\n•Valor real, instancia particular de un objeto', 'vector': array([[ 0.36033168,  0.25536832,  0.10597381, ...,  0.07948638,\n        -0.43465534,  0.34406555]], dtype=float32)}, {'texto': ' \\n–Nivel de tipo \\n•Clases de tokens', 'vector': array([[ 0.49725717,  0.31793538,  0.03190859, ...,  0.27754623,\n        -0.79368484,  0.3663978 ]], dtype=float32)}, {'texto': '4\\nEste material es de uso exclusivo para los cursos i mpartidos por Universidad de la Empresa y asociados Estructuras \\n• Formas de lograr abstracción\\n–Por generalización\\n•Tomar el conjunto de tokens o tipos como un tipo ge nérico', 'vector': array([[ 0.35537875, -0.03283923,  0.20589003, ..., -0.03508108,\n         0.23462121,  0.1618535 ]], dtype=float32)}, {'texto': ' \\n•Ir del tokenal tipo /barb2rightclasificación 1/ instanciación\\n•Ir del tipo al tipo genérico /barb2rightgeneralización 2/ especialización\\nEj', 'vector': array([[ 1.1136454 ,  0.34924522,  0.00379321, ..., -0.05337936,\n        -0.29150698,  0.42651924]], dtype=float32)}, {'texto': ' del concepto empleados (sus tokens o tipos) a \\nEMPLEADOS 1\\ndel concepto ESTUDIANTES y DOCENTES a \\nPERSONAS 2\\n–Herencia –las propiedades del tipo generalizado so n heredadas \\npor sus tipos especializados', 'vector': array([[ 0.53339744, -0.02744043,  0.5891198 , ...,  0.12728459,\n         0.04361797,  0.09403646]], dtype=float32)}, {'texto': ' \\n•Ej', 'vector': array([[ 0.1627369 , -0.24170317, -0.5722494 , ...,  0.47013643,\n        -0.6680432 ,  0.5024403 ]], dtype=float32)}, {'texto': ' (nombre, edad, dirección) es de PERSONAS y tam bién los será\\nde DOCENTES Y ESTUDIANTES', 'vector': array([[ 0.7494823 ,  0.09583187, -0.05119055, ...,  0.23807085,\n         0.250074  ,  0.45364118]], dtype=float32)}, {'texto': ' •(salario) serásólo de DOCENTES', 'vector': array([[ 0.27721334, -0.30258822, -0.1073401 , ...,  0.2174632 ,\n        -0.18827221,  0.48258305]], dtype=float32)}, {'texto': ' 5\\nEste material es de uso exclusivo para los cursos i mpartidos por Universidad de la Empresa y asociados Estructuras \\n• Formas de lograr abstracción\\n–Por agregación\\n•Un objeto se construye a partir de sus objetos con stituyentes', 'vector': array([[ 0.35723877,  0.01605681,  0.36681733, ..., -0.26809263,\n         0.05016031,  0.2269405 ]], dtype=float32)}, {'texto': ' \\n•Seráa nivel de tokeno de tipo', 'vector': array([[ 0.69090736, -0.06046603,  0.0584455 , ...,  0.4525127 ,\n        -1.3704733 ,  0.5599574 ]], dtype=float32)}, {'texto': ' \\n– Intensionales \\n» Ej', 'vector': array([[-0.70158315,  0.47626573,  0.48933592, ...,  0.59287447,\n        -0.60674053,  0.77281374]], dtype=float32)}, {'texto': ' (nombre, edad, dirección) \\n– Extensionales (instancias de tokens)\\n» Ej', 'vector': array([[ 0.12720193,  0.20948727, -0.49757263, ...,  0.2981307 ,\n         0.69361305,  0.45511368]], dtype=float32)}, {'texto': ' (“beatriz”, “33”, “21 de setiembre 2741”)6\\nEste material es de uso exclusivo para los cursos i mpartidos por Universidad de la Empresa y asociados Conjuntos, Dominios y \\nAtributos \\n• Conjuntos \\n–Colección de objetos identificados', 'vector': array([[ 1.2714304 , -0.04827312,  0.03068555, ...,  0.26970032,\n         0.11041313, -0.06479701]], dtype=float32)}, {'texto': ' \\n• Dominios \\n–Conjuntos homogéneos –Rangos de valores \\n• Atributos \\n–Dominio con nombre', 'vector': array([[ 0.7121288 ,  0.49826002, -0.42697534, ...,  0.321418  ,\n        -0.03174477,  0.45462388]], dtype=float32)}, {'texto': ' –La extensión del dominio son los valores que tomar á', 'vector': array([[ 0.725333  , -0.05852876,  0.3915306 , ...,  0.04318088,\n         0.09738538,  0.17362393]], dtype=float32)}, {'texto': '7\\nEste material es de uso exclusivo para los cursos i mpartidos por Universidad de la Empresa y asociados Entidades y Relaciones \\n• Entidades \\n–Identidades particulares \\n• Relaciones \\n–Conjuntos de N tuplas(producto cartesiano de atrib utos) \\n–Un tipo definido por asociación de entidades', 'vector': array([[ 0.70905066, -0.17867294,  0.57687855, ..., -0.02850985,\n        -0.03288958,  0.3975828 ]], dtype=float32)}, {'texto': ' 8\\nEste material es de uso exclusivo para los cursos i mpartidos por Universidad de la Empresa y asociados Restricciones de Integridad \\n•Inherentes \\n–Propias del rango de valores \\n• Explícitas \\n–Declaradas específicamente \\nEj', 'vector': array([[ 0.5613773 , -0.07919154,  0.4475979 , ..., -0.15303084,\n        -0.12510788,  0.5131997 ]], dtype=float32)}, {'texto': ' \\n…\\n', 'vector': array([[-0.253187  ,  0.44416714, -0.08050839, ...,  0.3852005 ,\n         0.2371819 ,  0.78586495]], dtype=float32)}]\n[{'texto': '1Base de Datos 1 \\n• Licenciatura e Ingeniería en Informática • 2do', 'vector': array([[ 0.9307846 ,  0.22104606, -0.04142186, ...,  0.68621475,\n         0.13347778,  0.59272456]], dtype=float32)}, {'texto': ' año\\nEste material es de uso exclusivo para los cursos i mpartidos por Universidad de la Empresa y asociados 2\\nEste material es de uso exclusivo para los cursos i mpartidos por Universidad de la Empresa y asociados Modelos de Datos \\n• Conceptos Generales \\n–Interpretar una realidad –Definir reglas que permitan estructurar los datos –Estrictamente tipeados(cada dato pertenece a algun a categoría \\ncon sus propiedades)', 'vector': array([[ 6.09859943e-01, -3.44942957e-01,  1.16705894e-04, ...,\n        -2.72184014e-01,  2.45567232e-01,  4.54548627e-01]], dtype=float32)}, {'texto': ' \\n• Modelo de Datos \\nM ( G , O ) \\n–G  Reglas generatrices \\n•Estructuras •Restricciones \\n–O Operaciones \\n•Dinámicas •Cambio en el estado de la BD 3\\nEste material es de uso exclusivo para los cursos i mpartidos por Universidad de la Empresa y asociados Estructuras \\n• Abstracción\\n–Ocultar los detalles y concentrarse en los concept os comunes \\ngenerales a un objeto –Obtener la categorización de datos \\n• Niveles de abstracción\\n–Nivel de token \\n•Valor real, instancia particular de un objeto', 'vector': array([[ 0.36033168,  0.25536832,  0.10597381, ...,  0.07948638,\n        -0.43465534,  0.34406555]], dtype=float32)}, {'texto': ' \\n–Nivel de tipo \\n•Clases de tokens', 'vector': array([[ 0.49725717,  0.31793538,  0.03190859, ...,  0.27754623,\n        -0.79368484,  0.3663978 ]], dtype=float32)}, {'texto': '4\\nEste material es de uso exclusivo para los cursos i mpartidos por Universidad de la Empresa y asociados Estructuras \\n• Formas de lograr abstracción\\n–Por generalización\\n•Tomar el conjunto de tokens o tipos como un tipo ge nérico', 'vector': array([[ 0.35537875, -0.03283923,  0.20589003, ..., -0.03508108,\n         0.23462121,  0.1618535 ]], dtype=float32)}, {'texto': ' \\n•Ir del tokenal tipo /barb2rightclasificación 1/ instanciación\\n•Ir del tipo al tipo genérico /barb2rightgeneralización 2/ especialización\\nEj', 'vector': array([[ 1.1136454 ,  0.34924522,  0.00379321, ..., -0.05337936,\n        -0.29150698,  0.42651924]], dtype=float32)}, {'texto': ' del concepto empleados (sus tokens o tipos) a \\nEMPLEADOS 1\\ndel concepto ESTUDIANTES y DOCENTES a \\nPERSONAS 2\\n–Herencia –las propiedades del tipo generalizado so n heredadas \\npor sus tipos especializados', 'vector': array([[ 0.53339744, -0.02744043,  0.5891198 , ...,  0.12728459,\n         0.04361797,  0.09403646]], dtype=float32)}, {'texto': ' \\n•Ej', 'vector': array([[ 0.1627369 , -0.24170317, -0.5722494 , ...,  0.47013643,\n        -0.6680432 ,  0.5024403 ]], dtype=float32)}, {'texto': ' (nombre, edad, dirección) es de PERSONAS y tam bién los será\\nde DOCENTES Y ESTUDIANTES', 'vector': array([[ 0.7494823 ,  0.09583187, -0.05119055, ...,  0.23807085,\n         0.250074  ,  0.45364118]], dtype=float32)}, {'texto': ' •(salario) serásólo de DOCENTES', 'vector': array([[ 0.27721334, -0.30258822, -0.1073401 , ...,  0.2174632 ,\n        -0.18827221,  0.48258305]], dtype=float32)}, {'texto': ' 5\\nEste material es de uso exclusivo para los cursos i mpartidos por Universidad de la Empresa y asociados Estructuras \\n• Formas de lograr abstracción\\n–Por agregación\\n•Un objeto se construye a partir de sus objetos con stituyentes', 'vector': array([[ 0.35723877,  0.01605681,  0.36681733, ..., -0.26809263,\n         0.05016031,  0.2269405 ]], dtype=float32)}, {'texto': ' \\n•Seráa nivel de tokeno de tipo', 'vector': array([[ 0.69090736, -0.06046603,  0.0584455 , ...,  0.4525127 ,\n        -1.3704733 ,  0.5599574 ]], dtype=float32)}, {'texto': ' \\n– Intensionales \\n» Ej', 'vector': array([[-0.70158315,  0.47626573,  0.48933592, ...,  0.59287447,\n        -0.60674053,  0.77281374]], dtype=float32)}, {'texto': ' (nombre, edad, dirección) \\n– Extensionales (instancias de tokens)\\n» Ej', 'vector': array([[ 0.12720193,  0.20948727, -0.49757263, ...,  0.2981307 ,\n         0.69361305,  0.45511368]], dtype=float32)}, {'texto': ' (“beatriz”, “33”, “21 de setiembre 2741”)6\\nEste material es de uso exclusivo para los cursos i mpartidos por Universidad de la Empresa y asociados Conjuntos, Dominios y \\nAtributos \\n• Conjuntos \\n–Colección de objetos identificados', 'vector': array([[ 1.2714304 , -0.04827312,  0.03068555, ...,  0.26970032,\n         0.11041313, -0.06479701]], dtype=float32)}, {'texto': ' \\n• Dominios \\n–Conjuntos homogéneos –Rangos de valores \\n• Atributos \\n–Dominio con nombre', 'vector': array([[ 0.7121288 ,  0.49826002, -0.42697534, ...,  0.321418  ,\n        -0.03174477,  0.45462388]], dtype=float32)}, {'texto': ' –La extensión del dominio son los valores que tomar á', 'vector': array([[ 0.725333  , -0.05852876,  0.3915306 , ...,  0.04318088,\n         0.09738538,  0.17362393]], dtype=float32)}, {'texto': '7\\nEste material es de uso exclusivo para los cursos i mpartidos por Universidad de la Empresa y asociados Entidades y Relaciones \\n• Entidades \\n–Identidades particulares \\n• Relaciones \\n–Conjuntos de N tuplas(producto cartesiano de atrib utos) \\n–Un tipo definido por asociación de entidades', 'vector': array([[ 0.70905066, -0.17867294,  0.57687855, ..., -0.02850985,\n        -0.03288958,  0.3975828 ]], dtype=float32)}, {'texto': ' 8\\nEste material es de uso exclusivo para los cursos i mpartidos por Universidad de la Empresa y asociados Restricciones de Integridad \\n•Inherentes \\n–Propias del rango de valores \\n• Explícitas \\n–Declaradas específicamente \\nEj', 'vector': array([[ 0.5613773 , -0.07919154,  0.4475979 , ..., -0.15303084,\n        -0.12510788,  0.5131997 ]], dtype=float32)}, {'texto': ' \\n…\\n', 'vector': array([[-0.253187  ,  0.44416714, -0.08050839, ...,  0.3852005 ,\n         0.2371819 ,  0.78586495]], dtype=float32)}]\n{'errors': [{'locations': [{'column': 29, 'line': 1}], 'message': 'Unknown argument \"nearText\" on field \"DocumentosPDF\" of type \"GetObjectsObj\". Did you mean \"nearObject\" or \"nearVector\"?', 'path': None}, {'locations': [{'column': 91, 'line': 1}], 'message': 'Cannot query field \"body\" on type \"DocumentosPDF\".', 'path': None}]}\n"
        }
      ],
      "execution_count": 21,
      "metadata": {
        "jupyter": {
          "source_hidden": false,
          "outputs_hidden": false
        },
        "nteract": {
          "transient": {
            "deleting": false
          }
        },
        "gather": {
          "logged": 1708405349253
        }
      }
    }
  ],
  "metadata": {
    "kernelspec": {
      "name": "python310-sdkv2",
      "language": "python",
      "display_name": "Python 3.10 - SDK v2"
    },
    "language_info": {
      "name": "python",
      "version": "3.10.11",
      "mimetype": "text/x-python",
      "codemirror_mode": {
        "name": "ipython",
        "version": 3
      },
      "pygments_lexer": "ipython3",
      "nbconvert_exporter": "python",
      "file_extension": ".py"
    },
    "microsoft": {
      "ms_spell_check": {
        "ms_spell_check_language": "en"
      },
      "host": {
        "AzureML": {
          "notebookHasBeenCompleted": true
        }
      }
    },
    "nteract": {
      "version": "nteract-front-end@1.0.0"
    },
    "kernel_info": {
      "name": "python310-sdkv2"
    }
  },
  "nbformat": 4,
  "nbformat_minor": 2
}